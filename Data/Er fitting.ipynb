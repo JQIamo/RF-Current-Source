{
 "cells": [
  {
   "cell_type": "code",
   "execution_count": 2,
   "metadata": {},
   "outputs": [
    {
     "name": "stdout",
     "output_type": "stream",
     "text": [
      "nbAgg\n"
     ]
    }
   ],
   "source": [
    "#from __future__ import division # If in Python 2\n",
    "import numpy as np\n",
    "import pandas as pd\n",
    "import h5py\n",
    "import matplotlib\n",
    "%matplotlib notebook\n",
    "#%matplotlib inline\n",
    "import matplotlib.pyplot as plt\n",
    "print(plt.get_backend())\n",
    "\n",
    "import matplotlib.gridspec as gridspec\n",
    "import matplotlib.ticker as mtick\n",
    "\n",
    "from cycler import cycler\n",
    "import sys, os, glob\n",
    "import pytz\n",
    "import lmfit\n",
    "import time\n",
    "\n",
    "from scipy.signal import *\n",
    "from scipy.stats import *\n",
    "from scipy.interpolate import *\n",
    "from scipy.integrate import odeint\n",
    "\n",
    "# use latex fonts/mathematica color scheme\n",
    "#matplotlib.rc('text', usetex=True)\n",
    "#matplotlib.rc('font', family='serif')\n",
    "#matplotlib.verbose.level = 'debug-annoying'\n",
    "#matplotlib.rcParams['mathtext.fontset'] = 'cm'\n",
    "\n",
    "matplotlib.rcParams.get('font.sans-serif').insert(0,u'Myriad Web Pro')\n",
    "matplotlib.rcParams.get('font.serif').remove(u'Times')\n",
    "matplotlib.rcParams.get('font.serif').insert(0,u'Times')\n",
    "\n",
    "plotparams = {'legend.fontsize'      : 10,\n",
    "              'figure.figsize'       : (3.25, 2.75),\n",
    "              'figure.dpi'           : 300,\n",
    "              'axes.labelsize'       : 7,\n",
    "              'axes.titlesize'       : 7,\n",
    "              'xtick.labelsize'      : 7,\n",
    "              'ytick.labelsize'      : 7,\n",
    "              'figure.subplot.bottom': 0.1,\n",
    "              'figure.subplot.hspace': 0.1,\n",
    "              'figure.subplot.left'  : 0.125,\n",
    "              'figure.subplot.right' : 0.95,\n",
    "              'figure.subplot.top'   : 0.95,\n",
    "              'figure.subplot.wspace': 0.1,\n",
    "              'mathtext.fontset'     : 'custom',\n",
    "              'mathtext.rm'          : matplotlib.rcParams.get('font.sans-serif')[0],\n",
    "              'mathtext.it'          : matplotlib.rcParams.get('font.sans-serif')[0] + u':italic',\n",
    "              'mathtext.bf'          : matplotlib.rcParams.get('font.sans-serif')[0] + u':bold',\n",
    "              'mathtext.sf'          : matplotlib.rcParams.get('font.sans-serif')[0]}\n",
    "\n",
    "matplotlib.rcParams.update(plotparams)\n",
    "\n",
    "# cyclers for colors and line styles\n",
    "line_cycle = cycler('linestyle', [\"-\",\"-.\",\"--\"])\n",
    "\n",
    "#color_cycle_trimmed = cycler('color', [\"#62ad64\", \"#9750a1\", \"#b8893a\", \"#6778d0\", \"#b8475f\"])\n",
    "color_cycle = cycler('color', [\"#62ad64\", \"#9750a1\", \"#b8893a\", \"#6778d0\", \"#b8475f\"])\n",
    "clrs = [\"#62ad64\", \"#9750a1\", \"#b8893a\", \"#6778d0\", \"#b8475f\"]\n",
    "clrs2 = [\"#e18e9c\", \"#53c0da\", \"#c0af6f\", \"#b5a0dd\", \"#71c19b\"]\n",
    "clrs3 = [\"#900094\", \"#c799ff\", \"#002ecd\"]"
   ]
  },
  {
   "cell_type": "code",
   "execution_count": 7,
   "metadata": {},
   "outputs": [
    {
     "data": {
      "text/html": [
       "<div>\n",
       "<style scoped>\n",
       "    .dataframe tbody tr th:only-of-type {\n",
       "        vertical-align: middle;\n",
       "    }\n",
       "\n",
       "    .dataframe tbody tr th {\n",
       "        vertical-align: top;\n",
       "    }\n",
       "\n",
       "    .dataframe thead th {\n",
       "        text-align: right;\n",
       "    }\n",
       "</style>\n",
       "<table border=\"1\" class=\"dataframe\">\n",
       "  <thead>\n",
       "    <tr style=\"text-align: right;\">\n",
       "      <th></th>\n",
       "      <th>freq</th>\n",
       "      <th>Er</th>\n",
       "      <th>tanD</th>\n",
       "    </tr>\n",
       "  </thead>\n",
       "  <tbody>\n",
       "    <tr>\n",
       "      <th>0</th>\n",
       "      <td>1.0</td>\n",
       "      <td>4.4</td>\n",
       "      <td>0.018</td>\n",
       "    </tr>\n",
       "    <tr>\n",
       "      <th>1</th>\n",
       "      <td>1000.0</td>\n",
       "      <td>3.9</td>\n",
       "      <td>0.013</td>\n",
       "    </tr>\n",
       "  </tbody>\n",
       "</table>\n",
       "</div>"
      ],
      "text/plain": [
       "     freq   Er   tanD\n",
       "0     1.0  4.4  0.018\n",
       "1  1000.0  3.9  0.013"
      ]
     },
     "execution_count": 7,
     "metadata": {},
     "output_type": "execute_result"
    }
   ],
   "source": [
    "data = np.array([[1, 1000],[4.4, 3.9],[0.018, 0.013]]).transpose()\n",
    "df = pd.DataFrame(data, columns = ['freq','Er','tanD'])\n",
    "df"
   ]
  },
  {
   "cell_type": "code",
   "execution_count": null,
   "metadata": {},
   "outputs": [],
   "source": [
    "def RPerm(x, e_s, e_inf, tau):\n",
    "    return (e_inf + (e_s - e_inf)/(1 + (2*np.pi*x*tau)**2))\n",
    "def TanD(x, e_s, e_inf, tau):\n",
    "    return ((e_s - e_inf)*2*np.pi*x*tau/(e_s + e_inf*(2*np.pi*x*tau)**2))\n",
    "def Debye_fit(params, x, Er = None, TanD = None):\n",
    "    "
   ]
  }
 ],
 "metadata": {
  "kernelspec": {
   "display_name": "Python 3",
   "language": "python",
   "name": "python3"
  },
  "language_info": {
   "codemirror_mode": {
    "name": "ipython",
    "version": 3
   },
   "file_extension": ".py",
   "mimetype": "text/x-python",
   "name": "python",
   "nbconvert_exporter": "python",
   "pygments_lexer": "ipython3",
   "version": "3.7.1"
  }
 },
 "nbformat": 4,
 "nbformat_minor": 2
}
